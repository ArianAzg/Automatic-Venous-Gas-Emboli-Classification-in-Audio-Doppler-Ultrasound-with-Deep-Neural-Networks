{
 "cells": [
  {
   "cell_type": "markdown",
   "id": "5f568e1e",
   "metadata": {},
   "source": [
    "# RNN-based Venous Gas Emboli (VGE) Classification using MelSpect+Delta features in Doppler ultrasound audio data\n",
    "This repository implements step-by-step framework for VGE classification in Doppler ultrasound audio. The steps include the followings:\n",
    "1) Importing the required libraries\n",
    "\n",
    "2) Feature extraction step: This step involves the Mel-spectrogram and its delta feature extraction of input Doppler ultrasound audio data in the shape of 128x128x2 ([bands, frames, channels]). This process gets repeated for each grade level, i.e., VGE grade 0 thorugh VGE grade 4. It has to be mentioned that the input audio files were already divided into training, valdiation, and test sets following the same structure as the main developed method in our study to be consistent in terms of evaluations. The **\"features\"** and **\"labels\"** of each grades for each set above will be saved in the directory as .npz format for faster processing. The structure of processed Mel-spectrogram and its delta data files in the directory will be as follows:\n",
    "\n",
    "- ## Processed Data:\n",
    "\n",
    "    - ### Training\n",
    "        - 0.npz\n",
    "        - 1.npz\n",
    "        - 2.npz\n",
    "        - 3.npz\n",
    "        - 4.npz\n",
    "    - ### Validation\n",
    "        - 0.npz\n",
    "        - 1.npz\n",
    "        - 2.npz\n",
    "        - 3.npz\n",
    "        - 4.npz\n",
    "    - ### Test\n",
    "        - 0.npz\n",
    "        - 1.npz\n",
    "        - 2.npz\n",
    "        - 3.npz\n",
    "        - 4.npz\n",
    "\n",
    "3) Network design step: This steps presents the architecture of the developed model for VGE classification. The idea for this network design is inspired by work presented in [1]. \n",
    "\n",
    "4) Loading the processed data (Mel-spectrogram and its delta features and Labels): The processed data in step 2 needs to be loaded in Jupyter Notebook to train the designed model. The data will be loaded in three different parts corresponding to training, validation, and test sets. \n",
    "\n",
    "5) Training the model: The model was trianed on 100 epochs with EarlyStopping enabled. The quantity and the patience parameter in EarlyStopping was set to validation loss and 10, respectively, to avoid overfitting. The batch size for training was considered 64. \n",
    "\n",
    "Tip: The user was given the opportunity to try the 10-fold stratified cross-validation to validate the robustness of the developed model. To do this, all the data must be concatenated together first. The section under the name \"10-fold stratified cross validation\" is running this step and saves the accuary per fold. Additionaly, it prints the confusion matrix for each fold. \n",
    "\n",
    "6) Saving best model wieghts in HDF5 format: Once the training of model is complete, the best model weights is saved under the models directory in .HDF5 format for inference purposes. It should be reminded that the class of the designed model must be complied first and the weigths should be loaded on the compiled model for testing phase. \n",
    "\n",
    "7) Evaluation results: The classification results on predictions are computed after running the inference phase. The confusion matrix will be displayed along with the accuracy per grade. \n",
    "\n",
    "#### The codes are licensed under GPL-2.0 license. \n",
    "\n",
    "For any utilization of the code content of this repository, the following paper needs to be cited by the user:\n",
    "\n",
    "A. Azarang\\*, D.Q. Le\\*, A. Hoang, L. Blogg, P.A. Dayton, R. Lance, M. Natoli, A. Gatrell, Frauke Tillmans, R.E. Moon, P. Lindholm, and V. Papadopoulou, \"Deep Learning-Based Venous Gas Emboli Grade Classification in Doppler Ultrasound Audio Recordings\", Under Review in IEEE Transactions on Biomdeical Engineering.\n",
    "\n",
    "\\*Authors contributed equally\n",
    "\n",
    "[1] Zhang, Z., Xu, S., Zhang, S., Qiao, T. and Cao, S., 2021. Attention based convolutional recurrent neural network for environmental sound classification. Neurocomputing, 453, pp.896-903."
   ]
  },
  {
   "cell_type": "markdown",
   "id": "2e53ae84",
   "metadata": {},
   "source": [
    "## Load necessary libraries"
   ]
  },
  {
   "cell_type": "code",
   "execution_count": null,
   "id": "aa23af6c",
   "metadata": {},
   "outputs": [],
   "source": [
    "import glob\n",
    "import os\n",
    "import librosa\n",
    "import numpy as np\n",
    "from sklearn.model_selection import StratifiedKFold\n",
    "from sklearn.metrics import accuracy_score\n",
    "import tensorflow as tf\n",
    "from tensorflow import keras\n",
    "from sklearn.metrics import confusion_matrix\n",
    "import random\n",
    "random.seed(42)"
   ]
  },
  {
   "cell_type": "code",
   "execution_count": null,
   "id": "f8a67a1b",
   "metadata": {},
   "outputs": [],
   "source": [
    "## Location of Doppler ultrasound audio files (10-second clips used for main model)\n",
    "parent_dir = 'PATH-TO-DOPPLER-AUDIO-FOR-DIFFERENT-GRADES' # Training, Validation, Test sets (0 - 4 in each folder)\n",
    "sub_dirs = np.array(['0', '1', '2', '3', '4'])\n",
    "file_ext = '*.wav'"
   ]
  },
  {
   "cell_type": "code",
   "execution_count": 3,
   "id": "b9b410c8",
   "metadata": {},
   "outputs": [],
   "source": [
    "### Define helper functions ###\n",
    "def extract_features(parent_dir, sub_dirs, file_ext=\"*.wav\", \n",
    "                     bands=128, frames=128): #128-bands 128-frames\n",
    "    # bands = 20\n",
    "    def _windows(data, window_size):\n",
    "        start = 0\n",
    "        while start < len(data):\n",
    "            yield start, start + window_size\n",
    "            start += (window_size // 2)    \n",
    "\n",
    "    window_size = 512 * (frames - 1)\n",
    "    features, labels = [], []\n",
    "    for fn in glob.glob(os.path.join(parent_dir, str(sub_dir), file_ext)):\n",
    "        segment_log_specgrams, segment_labels = [], []\n",
    "        sound_clip, sr = librosa.load(fn)\n",
    "        label = int(fn.split('\\\\')[3])  \n",
    "        \n",
    "        for (start,end) in _windows(sound_clip,window_size):\n",
    "            if(len(sound_clip[start:end]) == window_size):\n",
    "                signal = sound_clip[start:end]\n",
    "                \n",
    "                melspec = librosa.feature.melspectrogram(signal,n_mels=bands)\n",
    "                logspec = librosa.amplitude_to_db(melspec)\n",
    "                logspec = logspec.T.flatten()[:, np.newaxis].T\n",
    "                segment_log_specgrams.append(logspec)\n",
    "                Lb1 = [1, 0, 0, 0, 0]\n",
    "                Lb2 = [0, 1, 0, 0, 0]\n",
    "                Lb3 = [0, 0, 1, 0, 0]\n",
    "                Lb4 = [0, 0, 0, 1, 0]\n",
    "                Lb5 = [0, 0, 0, 0, 1]\n",
    "                if label == 0:\n",
    "                    segment_labels.append(Lb1)\n",
    "                elif label == 1:\n",
    "                    segment_labels.append(Lb2)\n",
    "                elif label == 2:\n",
    "                    segment_labels.append(Lb3)\n",
    "                elif label == 3:\n",
    "                    segment_labels.append(Lb4)\n",
    "                else:\n",
    "                    segment_labels.append(Lb5)\n",
    "            \n",
    "        \n",
    "        segment_log_specgrams = np.asarray(segment_log_specgrams).reshape(\n",
    "            len(segment_log_specgrams),bands,frames,1)\n",
    "        segment_features = np.concatenate((segment_log_specgrams, np.zeros(\n",
    "            np.shape(segment_log_specgrams))), axis=3)\n",
    "        for i in range(len(segment_features)): \n",
    "            segment_features[i, :, :, 1] = librosa.feature.delta(\n",
    "                segment_features[i, :, :, 0])\n",
    "        \n",
    "        if len(segment_features) > 0: # check for empty segments \n",
    "            features.append(segment_features)\n",
    "            labels.append(segment_labels)\n",
    "            \n",
    "    return features , labels"
   ]
  },
  {
   "cell_type": "code",
   "execution_count": 13,
   "id": "f3baf59a",
   "metadata": {},
   "outputs": [],
   "source": [
    "save_dir = 'PATH-FOR-SAVING-THE-MelSpec-FEATURES-EACH-GRADE-EACH-SET' # Training, Validation, Test sets (0 - 4 in each folder)\n",
    "for sub_dir in sub_dirs:\n",
    "    features, labels = extract_features(parent_dir,sub_dir)\n",
    "    np.savez(\"{0}{1}\".format(save_dir, sub_dir), features=features, labels=labels)"
   ]
  },
  {
   "cell_type": "markdown",
   "id": "004e781f",
   "metadata": {},
   "source": [
    "## Network design step"
   ]
  },
  {
   "cell_type": "code",
   "execution_count": 3,
   "id": "943e58d7",
   "metadata": {},
   "outputs": [],
   "source": [
    "### Define GRU based recurrent network architecture ###\n",
    "from keras.models import *\n",
    "from keras.layers import Dense, Dropout, GRU, LSTM, Bidirectional\n",
    "from keras.models import Sequential\n",
    "from keras import regularizers\n",
    "import tensorflow_addons as tfa\n",
    "from keras import optimizers, losses, activations, models\n",
    "\n",
    "def get_network():\n",
    "    \n",
    "    input_shape = (128, 128, 2)\n",
    "    num_classes = 5\n",
    "    keras.backend.clear_session()\n",
    "\n",
    "    inp   = tf.keras.Input(shape = input_shape)\n",
    "    conv1 = keras.layers.Conv2D(32, (3, 5) , strides=1, padding = 'same', activation='relu')(inp)\n",
    "    bn1   = keras.layers.BatchNormalization()(conv1)\n",
    "    conv2 = keras.layers.Conv2D(32, (3, 5) , strides=1, padding = 'same', activation='relu')(bn1)\n",
    "    bn2   = keras.layers.BatchNormalization()(conv2)\n",
    "    mxpl1 = keras.layers.MaxPool2D(strides = (4,3))(bn2)\n",
    "    \n",
    "    conv3 = keras.layers.Conv2D(64, (3,1) , strides=1, padding = 'same', activation='relu')(mxpl1)\n",
    "    bn3   = keras.layers.BatchNormalization()(conv3)\n",
    "    conv4 = keras.layers.Conv2D(64, (3,1) , strides=1, padding = 'same', activation='relu')(bn3)\n",
    "    bn4   = keras.layers.BatchNormalization()(conv4)\n",
    "    mxpl2 = keras.layers.MaxPool2D(strides = (4, 1))(bn4)\n",
    "    \n",
    "    conv5 = keras.layers.Conv2D(128, (1,5) , strides=1, padding = 'same', activation='relu')(mxpl2)\n",
    "    bn5   = keras.layers.BatchNormalization()(conv5)\n",
    "    conv6 = keras.layers.Conv2D(128, (1,5) , strides=1, padding = 'same', activation='relu')(bn5)\n",
    "    bn6   = keras.layers.BatchNormalization()(conv6)\n",
    "    mxpl3 = keras.layers.MaxPool2D(strides = (1, 3))(bn6)\n",
    "    \n",
    "    conv7 = keras.layers.Conv2D(256, (3,3) , strides=1, padding = 'same', activation='relu')(mxpl3)\n",
    "    bn7   = keras.layers.BatchNormalization()(conv7)\n",
    "    conv8 = keras.layers.Conv2D(256, (3,3) , strides=1, padding = 'same', activation='relu')(bn7)\n",
    "    bn8   = keras.layers.BatchNormalization()(conv8)\n",
    "    mxpl4 = keras.layers.MaxPool2D(strides = (2, 2))(bn8)\n",
    "\n",
    "    flat1 = keras.layers.Flatten()(mxpl4)\n",
    "    reshp1 = keras.layers.Reshape((1,5376))(flat1)\n",
    "    bdr_GRU1 = Bidirectional(GRU(256,activation=\"tanh\", return_sequences=True))(reshp1)\n",
    "    drp1  = Dropout(0.5)(bdr_GRU1)\n",
    "    bdr_GRU2 = Bidirectional(GRU(256,activation=\"tanh\", return_sequences=True))(drp1)\n",
    "    drp2  = Dropout(0.5)(bdr_GRU2)\n",
    "    flat2 = keras.layers.Flatten()(drp2)\n",
    "    \n",
    "    out   = keras.layers.Dense(num_classes, activation = \"softmax\")(flat2)\n",
    "    model = models.Model(inputs=inp, outputs=out)\n",
    "    \n",
    "    model.compile(optimizer=keras.optimizers.Adam(learning_rate = 1e-4), \n",
    "        loss=  tfa.losses.WeightedKappaLoss(num_classes=5), \n",
    "        metrics=[\"accuracy\"])\n",
    "    \n",
    "    return model\n",
    "model = get_network()\n",
    "model.summary()"
   ]
  },
  {
   "cell_type": "code",
   "execution_count": 6,
   "id": "ceb2fa74",
   "metadata": {},
   "outputs": [
    {
     "name": "stdout",
     "output_type": "stream",
     "text": [
      "(59825, 128, 128, 2)\n",
      "(59825, 5)\n"
     ]
    }
   ],
   "source": [
    "inputs = []\n",
    "targets = []\n",
    "load_dir = 'PATH-TO-TRAINING-SET' \n",
    "\n",
    "sets = np.array(['Train']) #In case of cross-validation this sets must change to np.array([Train, Validation, Test]) \n",
    "sub_dirs = np.array(['0', '1', '2', '3', '4'])\n",
    "\n",
    "for set1 in sets:\n",
    "    for sub_dir in sub_dirs:\n",
    "        raw = np.load(\"{0}\\\\{1}\\\\{2}.npz\".format(load_dir, set1, sub_dir))\n",
    "        \n",
    "        input_features = np.concatenate(raw[\"features\"], axis=0)\n",
    "        target_labels = np.concatenate(raw[\"labels\"], axis=0)            \n",
    "        inputs.append(input_features)\n",
    "        targets.append(target_labels)\n",
    "\n",
    "\n",
    "inputs = np.concatenate(inputs, axis = 0).astype(np.float32)\n",
    "targets = np.concatenate(targets, axis = 0).astype(np.float32)\n",
    "\n",
    "inputs = np.reshape(inputs, (inputs.shape[0], inputs.shape[1], inputs.shape[2], 2)) #Make it tensor for training purpuses."
   ]
  },
  {
   "cell_type": "code",
   "execution_count": null,
   "id": "d9b7ba7f",
   "metadata": {},
   "outputs": [],
   "source": [
    "# This section can be neglected in case of cross-validation\n",
    "val_inputs = []\n",
    "val_targets = []\n",
    "\n",
    "load_dir = 'PATH-TO-VALIDATION-SET' \n",
    "sets = np.array(['Validation']) \n",
    "sub_dirs = np.array(['0', '1', '2', '3', '4'])\n",
    "\n",
    "for set3 in sets:\n",
    "    for sub_dir in sub_dirs:\n",
    "        raw3 = np.load(\"{0}\\\\{1}\\\\{2}.npz\".format(load_dir, set3, sub_dir))\n",
    "        \n",
    "        input_features = np.concatenate(raw3[\"features\"], axis=0)\n",
    "        target_labels = np.concatenate(raw3[\"labels\"], axis=0)            \n",
    "        val_inputs.append(input_features)\n",
    "        val_targets.append(target_labels)\n",
    "        \n",
    "        \n",
    "val_inputs = np.concatenate(val_inputs, axis = 0).astype(np.float32)\n",
    "val_targets = np.concatenate(val_targets, axis = 0).astype(np.float32)\n",
    "\n",
    "val_inputs = np.reshape(val_inputs, (val_inputs.shape[0], val_inputs.shape[1], val_inputs.shape[2], 2)) #Make it tensor for training purpuses."
   ]
  },
  {
   "cell_type": "code",
   "execution_count": null,
   "id": "c7272ab6",
   "metadata": {},
   "outputs": [],
   "source": [
    "# Runnign the ranodm shuffle on Training and Validation sets to remove any bias in data structure\n",
    "from sklearn.utils import shuffle\n",
    "inputs , targets = shuffle(inputs, targets)\n",
    "val_inputs , val_targets = shuffle(val_inputs, val_targets)"
   ]
  },
  {
   "cell_type": "code",
   "execution_count": null,
   "id": "f19f9462",
   "metadata": {},
   "outputs": [],
   "source": [
    "# This section can be neglected in case of cross-validation\n",
    "\n",
    "test_inputs = []\n",
    "test_targets = []\n",
    "\n",
    "load_dir = 'PATH-TO-Test-SET'\n",
    "\n",
    "test_set = np.array(['Test'])\n",
    "\n",
    "for set2 in test_set:\n",
    "    for sub_dir in sub_dirs:\n",
    "        raw1 = np.load(\"{0}\\\\{1}\\\\{2}.npz\".format(load_dir, set2, sub_dir))\n",
    "        test_input_features = np.concatenate(raw1[\"features\"], axis=0)\n",
    "        test_target_labels = np.concatenate(raw1[\"labels\"], axis=0)            \n",
    "        test_inputs.append(test_input_features)\n",
    "        test_targets.append(test_target_labels) \n",
    "\n",
    "test_inputs = np.concatenate(test_inputs, axis = 0).astype(np.float32)\n",
    "test_inputs = np.reshape(test_inputs, (test_inputs.shape[0], test_inputs.shape[1], test_inputs.shape[2], 2))"
   ]
  },
  {
   "cell_type": "markdown",
   "id": "040d6066",
   "metadata": {},
   "source": [
    "## 10-fold stratified cross-validation"
   ]
  },
  {
   "cell_type": "code",
   "execution_count": null,
   "id": "204183d2",
   "metadata": {
    "scrolled": true
   },
   "outputs": [],
   "source": [
    "import tensorflow as tf\n",
    "from tensorflow.keras import mixed_precision\n",
    "mixed_precision.set_global_policy('mixed_float16') # mixed precision to speed up the training process\n",
    "\n",
    "accuracies = []\n",
    "acc1, acc2, acc3, acc4, acc5 = [], [], [], [], []\n",
    "kf = StratifiedKFold(n_splits=10, shuffle = True)\n",
    "y_max = targets.argmax(axis=1)\n",
    "\n",
    "for train_index, test_index in kf.split(inputs, y_max):\n",
    "\n",
    "    model = get_network()\n",
    "    model.fit(inputs[train_index], targets[train_index], \n",
    "              validation_data=(inputs[test_index], targets[test_index]), \n",
    "              epochs = 15, \n",
    "              batch_size = 64, \n",
    "              verbose = 1)\n",
    "    test_preds = []\n",
    "    test_preds = model.predict(test_inputs)\n",
    "    from sklearn.metrics import confusion_matrix\n",
    "    matrix = confusion_matrix(np.argmax(test_targets, axis = 1), np.argmax(test_preds, axis = 1))\n",
    "    acc_class_0 = 100*(matrix[0,0]+(3/4)*matrix[0,1]+(2/4)*matrix[0,2]+(1/4)*matrix[0,3])/np.sum(matrix[0,:])\n",
    "    acc_class_1 = 100*(matrix[1,1]+(3/4)*matrix[1,0]+(3/4)*matrix[1,2]+(2/4)*matrix[1,3]+(1/4)*matrix[1,4])/np.sum(matrix[1,:])\n",
    "    acc_class_2 = 100*(matrix[2,2]+(3/4)*matrix[2,1]+(3/4)*matrix[2,3]+(2/4)*matrix[2,4]+(2/4)*matrix[2,0])/np.sum(matrix[2,:])\n",
    "    acc_class_3 = 100*(matrix[3,3]+(3/4)*matrix[3,4]+(3/4)*matrix[3,2]+(2/4)*matrix[3,1]+(1/4)*matrix[3,0])/np.sum(matrix[3,:])\n",
    "    acc_class_4 = 100*(matrix[4,4]+(3/4)*matrix[4,3]+(2/4)*matrix[4,2]+(1/4)*matrix[4,1])/np.sum(matrix[4,:])\n",
    "    total = (acc_class_0 + acc_class_1 +acc_class_2 +acc_class_3 +acc_class_4)/5\n",
    "    print('Fold Grade 0 Accuracy: %' + str(acc_class_0))\n",
    "    print('Fold Grade 1 Accuracy: %' + str(acc_class_1))\n",
    "    print('Fold Grade 2 Accuracy: %' + str(acc_class_2))\n",
    "    print('Fold Grade 3 Accuracy: %' + str(acc_class_3))\n",
    "    print('Fold Grade 4 Accuracy: %' + str(acc_class_4))\n",
    "    print('Fold Average Accuracy: %' + str(total))\n",
    "    accuracies.append(total) # To compute the average accuracy over 10-folds\n",
    "    acc1.append(acc_class_0)\n",
    "    acc2.append(acc_class_1)\n",
    "    acc3.append(acc_class_2)\n",
    "    acc4.append(acc_class_3)\n",
    "    acc5.append(acc_class_4)"
   ]
  },
  {
   "cell_type": "code",
   "execution_count": null,
   "id": "d7da17ea",
   "metadata": {
    "scrolled": true
   },
   "outputs": [],
   "source": [
    "import math\n",
    "from keras.callbacks import EarlyStopping\n",
    "\n",
    "def step_decay(epoch): # After 10 epoch, the learning decays by a factor\n",
    "    initial_lrate = 0.0001\n",
    "    drop = 0.5\n",
    "    epochs_drop = 10.0\n",
    "    lrate = initial_lrate * math.pow(drop,\n",
    "                                     math.floor((1+epoch)/epochs_drop))\n",
    "    return lrate\n",
    "lrate = tf.keras.callbacks.LearningRateScheduler(step_decay)\n",
    "\n",
    "checkpoint_filepath = 'PATH-TO-MODELS\\best_model.epoch{epoch:02d}-loss{val_loss:.2f}.hdf5' # Saving the best model weights\n",
    "model_checkpoint_callback = tf.keras.callbacks.ModelCheckpoint(\n",
    "    filepath=checkpoint_filepath,\n",
    "    save_weights_only=True,\n",
    "    monitor='val_accuracy',\n",
    "    mode='max',\n",
    "    save_best_only=True)\n",
    "\n",
    "earlyStopping = EarlyStopping(monitor='val_loss', patience=10, verbose=0, mode='min') # verbose = 1 will \n",
    "                                                                                      # print validation loss after each epoch\n",
    "\n",
    "callbacks_list = [earlyStopping, lrate, model_checkpoint_callback] #To check a number of items during training\n",
    "\n",
    "model = get_network() #Getting the compiled model\n",
    "history = model.fit(inputs, targets, \n",
    "                    validation_data=(val_inputs, val_targets), \n",
    "                    epochs = 100, \n",
    "                    batch_size = 64, \n",
    "                    verbose = 1,\n",
    "                    callbacks=[callbacks_list])"
   ]
  },
  {
   "cell_type": "markdown",
   "id": "4a1980ec",
   "metadata": {},
   "source": [
    "## Visualizing the learning curves"
   ]
  },
  {
   "cell_type": "code",
   "execution_count": 15,
   "id": "8b5172d9",
   "metadata": {},
   "outputs": [
    {
     "data": {
      "image/png": "[encoded data removed]",
      "text/plain": [
       "<Figure size 432x288 with 1 Axes>"
      ]
     },
     "metadata": {
      "needs_background": "light"
     },
     "output_type": "display_data"
    },
    {
     "data": {
      "image/png": "[encoded data removed]",
      "text/plain": [
       "<Figure size 432x288 with 1 Axes>"
      ]
     },
     "metadata": {
      "needs_background": "light"
     },
     "output_type": "display_data"
    }
   ],
   "source": [
    "import matplotlib.pyplot as plt\n",
    "\n",
    "plt.plot(history.history['accuracy'])\n",
    "plt.plot(history.history['val_accuracy'])\n",
    "plt.title('model accuracy')\n",
    "plt.ylabel('accuracy')\n",
    "plt.xlabel('epoch')\n",
    "plt.legend(['train', 'validation'], loc='lower right')\n",
    "plt.show()\n",
    "# summarize history for loss\n",
    "plt.plot(history.history['loss'])\n",
    "plt.plot(history.history['val_loss'])\n",
    "plt.title('model loss')\n",
    "plt.ylabel('loss')\n",
    "plt.xlabel('epoch')\n",
    "plt.legend(['train', 'validation'], loc='upper right')\n",
    "plt.show()"
   ]
  },
  {
   "cell_type": "code",
   "execution_count": 14,
   "id": "3e61ac4d",
   "metadata": {},
   "outputs": [
    {
     "name": "stdout",
     "output_type": "stream",
     "text": [
      "[[   0 3425   15    0    0]\n",
      " [   0 2898  498    4    0]\n",
      " [   0 1467 1841  167    0]\n",
      " [   0   26  204 3038  117]\n",
      " [   0    0    0   47 3338]]\n",
      "Grade 0 Accuracy: %74.89098837209302\n",
      "Grade 1 Accuracy: %96.27941176470588\n",
      "Grade 2 Accuracy: %88.24460431654676\n",
      "Grade 3 Accuracy: %97.24519940915805\n",
      "Grade 4 Accuracy: %99.65288035450517\n",
      "Average Accuracy: %91.26261684340177\n"
     ]
    }
   ],
   "source": [
    "test_preds = []\n",
    "model.load_weights('PATH-TO-BEST-MODEL-WEIGHTS.hdf5')\n",
    "test_preds = model.predict(test_inputs)\n",
    "from sklearn.metrics import confusion_matrix\n",
    "matrix = confusion_matrix(np.argmax(test_targets, axis = 1), np.argmax(test_preds, axis = 1))\n",
    "print(matrix)\n",
    "acc_class_0 = 100*(matrix[0,0]+(3/4)*matrix[0,1]+(2/4)*matrix[0,2]+(1/4)*matrix[0,3])/np.sum(matrix[0,:])\n",
    "acc_class_1 = 100*(matrix[1,1]+(3/4)*matrix[1,0]+(3/4)*matrix[1,2]+(2/4)*matrix[1,3]+(1/4)*matrix[1,4])/np.sum(matrix[1,:])\n",
    "acc_class_2 = 100*(matrix[2,2]+(3/4)*matrix[2,1]+(3/4)*matrix[2,3]+(2/4)*matrix[2,4]+(2/4)*matrix[2,0])/np.sum(matrix[2,:])\n",
    "acc_class_3 = 100*(matrix[3,3]+(3/4)*matrix[3,4]+(3/4)*matrix[3,2]+(2/4)*matrix[3,1]+(1/4)*matrix[3,0])/np.sum(matrix[3,:])\n",
    "acc_class_4 = 100*(matrix[4,4]+(3/4)*matrix[4,3]+(2/4)*matrix[4,2]+(1/4)*matrix[4,1])/np.sum(matrix[4,:])\n",
    "total = (acc_class_0 + acc_class_1 +acc_class_2 +acc_class_3 +acc_class_4)/5\n",
    "print('Grade 0 Accuracy: %' + str(acc_class_0))\n",
    "print('Grade 1 Accuracy: %' + str(acc_class_1))\n",
    "print('Grade 2 Accuracy: %' + str(acc_class_2))\n",
    "print('Grade 3 Accuracy: %' + str(acc_class_3))\n",
    "print('Grade 4 Accuracy: %' + str(acc_class_4))\n",
    "print('Average Accuracy: %' + str(total))"
   ]
  },
  {
   "cell_type": "code",
   "execution_count": 16,
   "id": "0d6892d8",
   "metadata": {},
   "outputs": [
    {
     "data": {
      "text/plain": [
       "<AxesSubplot:>"
      ]
     },
     "execution_count": 16,
     "metadata": {},
     "output_type": "execute_result"
    },
    {
     "data": {
      "image/png": "[encoded data removed]",
      "text/plain": [
       "<Figure size 864x720 with 2 Axes>"
      ]
     },
     "metadata": {
      "needs_background": "light"
     },
     "output_type": "display_data"
    }
   ],
   "source": [
    "import seaborn as sn\n",
    "import pandas as pd\n",
    "import matplotlib.pyplot as plt\n",
    "\n",
    "array = matrix\n",
    "df_cm = pd.DataFrame(array, index = ['Grade 0','Grade 1','Grade 2', 'Grade 3', 'Grade 4'], \n",
    "                     columns = ['Grade 0','Grade 1','Grade 2', 'Grade 3', 'Grade 4'])\n",
    "plt.figure(figsize = (12,10))\n",
    "sn.set(font_scale=2)\n",
    "sn.heatmap(df_cm, annot=True,cmap=\"OrRd\", fmt=\".0f\")"
   ]
  }
 ],
 "metadata": {
  "kernelspec": {
   "display_name": "Python 3 (ipykernel)",
   "language": "python",
   "name": "python3"
  },
  "language_info": {
   "codemirror_mode": {
    "name": "ipython",
    "version": 3
   },
   "file_extension": ".py",
   "mimetype": "text/x-python",
   "name": "python",
   "nbconvert_exporter": "python",
   "pygments_lexer": "ipython3",
   "version": "3.9.7"
  }
 },
 "nbformat": 4,
 "nbformat_minor": 5
}
